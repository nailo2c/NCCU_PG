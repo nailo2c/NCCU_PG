{
 "cells": [
  {
   "cell_type": "code",
   "execution_count": 1,
   "metadata": {
    "collapsed": true
   },
   "outputs": [],
   "source": [
    "import numpy as np\n",
    "import tensorflow as tf\n",
    "\n",
    "# reproducible\n",
    "np.random.seed(1)\n",
    "tf.set_random_seed(1)\n",
    "\n",
    "\n",
    "class PolicyGradient:\n",
    "    def __init__(\n",
    "            self,\n",
    "            n_actions,\n",
    "            n_features,\n",
    "            learning_rate=0.01,\n",
    "            reward_decay=0.95,\n",
    "            output_graph=False,\n",
    "    ):\n",
    "        self.n_actions = n_actions\n",
    "        self.n_features = n_features\n",
    "        self.lr = learning_rate\n",
    "        self.gamma = reward_decay\n",
    "\n",
    "        self.ep_obs, self.ep_as, self.ep_rs = [], [], []\n",
    "\n",
    "        self._build_net()\n",
    "\n",
    "        self.sess = tf.Session()\n",
    "\n",
    "        if output_graph:\n",
    "            # $ tensorboard --logdir=logs\n",
    "            # http://0.0.0.0:6006/\n",
    "            # tf.train.SummaryWriter soon be deprecated, use following\n",
    "            tf.summary.FileWriter(\"logs/\", self.sess.graph)\n",
    "\n",
    "        self.sess.run(tf.global_variables_initializer())\n",
    "\n",
    "    def _build_net(self):\n",
    "        with tf.name_scope('inputs'):\n",
    "            self.tf_obs = tf.placeholder(tf.float32, [None, self.n_features], name=\"observations\")\n",
    "            self.tf_acts = tf.placeholder(tf.int32, [None, ], name=\"actions_num\")\n",
    "            self.tf_vt = tf.placeholder(tf.float32, [None, ], name=\"actions_value\")\n",
    "        # fc1\n",
    "        layer = tf.layers.dense(\n",
    "            inputs=self.tf_obs,\n",
    "            units=10,\n",
    "            activation=tf.nn.tanh,  # tanh activation\n",
    "            kernel_initializer=tf.random_normal_initializer(mean=0, stddev=0.3),\n",
    "            bias_initializer=tf.constant_initializer(0.1),\n",
    "            name='fc1'\n",
    "        )\n",
    "        # fc2\n",
    "        all_act = tf.layers.dense(\n",
    "            inputs=layer,\n",
    "            units=self.n_actions,\n",
    "            activation=None,\n",
    "            kernel_initializer=tf.random_normal_initializer(mean=0, stddev=0.3),\n",
    "            bias_initializer=tf.constant_initializer(0.1),\n",
    "            name='fc2'\n",
    "        )\n",
    "\n",
    "        self.all_act_prob = tf.nn.softmax(all_act, name='act_prob')  # use softmax to convert to probability\n",
    "\n",
    "        with tf.name_scope('loss'):\n",
    "            # to maximize total reward (log_p * R) is to minimize -(log_p * R), and the tf only have minimize(loss)\n",
    "            neg_log_prob = tf.nn.sparse_softmax_cross_entropy_with_logits(logits=all_act, labels=self.tf_acts)   # this is negative log of chosen action\n",
    "            # or in this way:\n",
    "            # neg_log_prob = tf.reduce_sum(-tf.log(self.all_act_prob)*tf.one_hot(self.tf_acts, self.n_actions), axis=1)\n",
    "            loss = tf.reduce_mean(neg_log_prob * self.tf_vt)  # reward guided loss\n",
    "\n",
    "        with tf.name_scope('train'):\n",
    "            self.train_op = tf.train.AdamOptimizer(self.lr).minimize(loss)\n",
    "\n",
    "    def choose_action(self, observation):\n",
    "        prob_weights = self.sess.run(self.all_act_prob, feed_dict={self.tf_obs: observation[np.newaxis, :]})\n",
    "        action = np.random.choice(range(prob_weights.shape[1]), p=prob_weights.ravel())  # select action w.r.t the actions prob\n",
    "        return action\n",
    "\n",
    "    def store_transition(self, s, a, r):\n",
    "        self.ep_obs.append(s)\n",
    "        self.ep_as.append(a)\n",
    "        self.ep_rs.append(r)\n",
    "\n",
    "    def learn(self):\n",
    "        # discount and normalize episode reward\n",
    "        discounted_ep_rs_norm = self._discount_and_norm_rewards()\n",
    "\n",
    "        # train on episode\n",
    "        self.sess.run(self.train_op, feed_dict={\n",
    "             self.tf_obs: np.vstack(self.ep_obs),  # shape=[None, n_obs]\n",
    "             self.tf_acts: np.array(self.ep_as),  # shape=[None, ]\n",
    "             self.tf_vt: discounted_ep_rs_norm,  # shape=[None, ]\n",
    "        })\n",
    "\n",
    "        self.ep_obs, self.ep_as, self.ep_rs = [], [], []    # empty episode data\n",
    "        return discounted_ep_rs_norm\n",
    "\n",
    "    def _discount_and_norm_rewards(self):\n",
    "        # discount episode rewards\n",
    "        discounted_ep_rs = np.zeros_like(self.ep_rs)\n",
    "        running_add = 0\n",
    "        for t in reversed(range(0, len(self.ep_rs))):\n",
    "            running_add = running_add * self.gamma + self.ep_rs[t]\n",
    "            discounted_ep_rs[t] = running_add\n",
    "\n",
    "        # normalize episode rewards\n",
    "        discounted_ep_rs -= np.mean(discounted_ep_rs)\n",
    "        discounted_ep_rs /= np.std(discounted_ep_rs)\n",
    "        return discounted_ep_rs"
   ]
  },
  {
   "cell_type": "code",
   "execution_count": 2,
   "metadata": {
    "collapsed": false,
    "scrolled": false
   },
   "outputs": [
    {
     "name": "stderr",
     "output_type": "stream",
     "text": [
      "[2017-05-01 05:53:19,131] Making new env: CartPole-v0\n",
      "[2017-05-01 05:53:19,142] Clearing 10 monitor files from previous run (because force=True was provided)\n"
     ]
    },
    {
     "name": "stdout",
     "output_type": "stream",
     "text": [
      "Discrete(2)\n",
      "Box(4,)\n",
      "[  4.80000000e+00   3.40282347e+38   4.18879020e-01   3.40282347e+38]\n",
      "[ -4.80000000e+00  -3.40282347e+38  -4.18879020e-01  -3.40282347e+38]\n"
     ]
    },
    {
     "name": "stderr",
     "output_type": "stream",
     "text": [
      "[2017-05-01 05:53:19,533] Starting new video recorder writing to /home/nailo/NCCU_PG/gym-results/openaigym.video.0.4880.video000000.mp4\n"
     ]
    },
    {
     "name": "stdout",
     "output_type": "stream",
     "text": [
      "episode: 0   reward: 13\n",
      "episode: 50   reward: 40\n"
     ]
    },
    {
     "name": "stderr",
     "output_type": "stream",
     "text": [
      "[2017-05-01 05:53:26,420] Starting new video recorder writing to /home/nailo/NCCU_PG/gym-results/openaigym.video.0.4880.video000100.mp4\n"
     ]
    },
    {
     "name": "stdout",
     "output_type": "stream",
     "text": [
      "episode: 100   reward: 94\n",
      "episode: 150   reward: 125\n"
     ]
    },
    {
     "name": "stderr",
     "output_type": "stream",
     "text": [
      "[2017-05-01 05:53:36,711] Starting new video recorder writing to /home/nailo/NCCU_PG/gym-results/openaigym.video.0.4880.video000200.mp4\n"
     ]
    },
    {
     "name": "stdout",
     "output_type": "stream",
     "text": [
      "episode: 200   reward: 153\n",
      "episode: 250   reward: 171\n"
     ]
    },
    {
     "name": "stderr",
     "output_type": "stream",
     "text": [
      "[2017-05-01 05:53:49,187] Starting new video recorder writing to /home/nailo/NCCU_PG/gym-results/openaigym.video.0.4880.video000300.mp4\n"
     ]
    },
    {
     "name": "stdout",
     "output_type": "stream",
     "text": [
      "episode: 300   reward: 182\n"
     ]
    }
   ],
   "source": [
    "import gym\n",
    "from gym import wrappers\n",
    "\n",
    "env = gym.make('CartPole-v0')\n",
    "env.seed(1)     # reproducible, general Policy gradient has high variance\n",
    "env = wrappers.Monitor(env, \"./gym-results\", force=True, video_callable=lambda count: count % 100 == 0)\n",
    "\n",
    "print(env.action_space)\n",
    "print(env.observation_space)\n",
    "print(env.observation_space.high)\n",
    "print(env.observation_space.low)\n",
    "\n",
    "RL = PolicyGradient(\n",
    "    n_actions=env.action_space.n,\n",
    "    n_features=env.observation_space.shape[0],\n",
    "    learning_rate=0.02,\n",
    "    reward_decay=0.99,\n",
    ")\n",
    "\n",
    "for i_episode in range(302):\n",
    "\n",
    "    observation = env.reset()\n",
    "\n",
    "    while True:\n",
    "\n",
    "        action = RL.choose_action(observation)\n",
    "\n",
    "        observation_, reward, done, info = env.step(action)\n",
    "\n",
    "        RL.store_transition(observation, action, reward)\n",
    "\n",
    "        if done:\n",
    "            ep_rs_sum = sum(RL.ep_rs)\n",
    "\n",
    "            if 'running_reward' not in globals():\n",
    "                running_reward = ep_rs_sum\n",
    "            else:\n",
    "                running_reward = running_reward * 0.99 + ep_rs_sum * 0.01\n",
    "            \n",
    "            if i_episode % 50 == 0:\n",
    "                print(\"episode:\", i_episode, \"  reward:\", int(running_reward))\n",
    "\n",
    "            vt = RL.learn()\n",
    "\n",
    "            break\n",
    "\n",
    "        observation = observation_"
   ]
  },
  {
   "cell_type": "code",
   "execution_count": 3,
   "metadata": {
    "collapsed": false,
    "scrolled": false
   },
   "outputs": [
    {
     "data": {
      "text/html": [
       "<video alt=\"test\" controls>\n",
       "                <source src=\"data:video/mp4;base64,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\" type=\"video/mp4\" />\n",
       "             </video>"
      ],
      "text/plain": [
       "<IPython.core.display.HTML object>"
      ]
     },
     "execution_count": 3,
     "metadata": {},
     "output_type": "execute_result"
    }
   ],
   "source": [
    "import io\n",
    "import base64\n",
    "from glob import glob\n",
    "from IPython.display import HTML\n",
    "\n",
    "video_number = '{0:06}'.format(300)\n",
    "video_path   = glob('./gym-results/*video{}.mp4'.format(video_number))[0]\n",
    "\n",
    "video = io.open(video_path, 'r+b').read()\n",
    "encoded = base64.b64encode(video)\n",
    "HTML(data='''<video alt=\"test\" controls>\n",
    "                <source src=\"data:video/mp4;base64,{0}\" type=\"video/mp4\" />\n",
    "             </video>'''.format(encoded.decode('ascii')))"
   ]
  }
 ],
 "metadata": {
  "kernelspec": {
   "display_name": "Python 3",
   "language": "python",
   "name": "python3"
  },
  "language_info": {
   "codemirror_mode": {
    "name": "ipython",
    "version": 3
   },
   "file_extension": ".py",
   "mimetype": "text/x-python",
   "name": "python",
   "nbconvert_exporter": "python",
   "pygments_lexer": "ipython3",
   "version": "3.6.0"
  }
 },
 "nbformat": 4,
 "nbformat_minor": 2
}
